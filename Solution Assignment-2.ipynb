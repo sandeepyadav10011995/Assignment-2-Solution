{
 "cells": [
  {
   "cell_type": "markdown",
   "metadata": {},
   "source": [
    "# Task 1"
   ]
  },
  {
   "cell_type": "markdown",
   "metadata": {},
   "source": [
    "Write a Python Program to implement your own myreduce() function which works exactly like\n",
    "Python's built-in function reduce()"
   ]
  },
  {
   "cell_type": "code",
   "execution_count": 5,
   "metadata": {},
   "outputs": [
    {
     "name": "stdout",
     "output_type": "stream",
     "text": [
      "47\n"
     ]
    }
   ],
   "source": [
    "# Sinec Reduce bilt-in function produces a single result \n",
    "def my_reduce(any_func, sequence):\n",
    "    # Store the first element of sequence in result\n",
    "    result = sequence[0]\n",
    "    # iterate over remaining items in sequence \n",
    "    for item in sequence[1:]:\n",
    "        result = any_func(result, item)\n",
    "    return result\n",
    "\n",
    "if __name__ == '__main__':\n",
    "    lst =[47,11,42,13]\n",
    "    max_find = lambda a,b: a if (a > b) else b\n",
    "    # Find max\n",
    "    print(my_reduce(max_find,lst))"
   ]
  },
  {
   "cell_type": "markdown",
   "metadata": {},
   "source": [
    "Write a Python program to implement your own myfilter() function which works exactly like\n",
    "Python's built-in function filter()"
   ]
  },
  {
   "cell_type": "code",
   "execution_count": 6,
   "metadata": {},
   "outputs": [
    {
     "name": "stdout",
     "output_type": "stream",
     "text": [
      "[2, 4, 6, 8]\n"
     ]
    }
   ],
   "source": [
    "def my_filter(any_func, sequence):\n",
    "    result = []\n",
    "    for item in sequence:\n",
    "        if any_func(item):\n",
    "            result.append(item)\n",
    "    return result\n",
    "\n",
    "#First let's make a function\n",
    "def even_check(num):\n",
    "    if num%2 ==0:\n",
    "        return True\n",
    "    \n",
    "if __name__ == '__main__':\n",
    "    lst =[1,2,3,4,5,6,7,8]\n",
    "    print(list(my_filter(even_check,lst)))"
   ]
  },
  {
   "cell_type": "markdown",
   "metadata": {},
   "source": [
    "Implement List comprehensions to produce the following lists.\n",
    "Write List comprehensions to produce the following Lists"
   ]
  },
  {
   "cell_type": "raw",
   "metadata": {},
   "source": [
    "Question ACADGILD: --> ['A', 'C', 'A', 'D', 'G', 'I', ’L’, ‘ D’]"
   ]
  },
  {
   "cell_type": "code",
   "execution_count": 35,
   "metadata": {},
   "outputs": [
    {
     "name": "stdout",
     "output_type": "stream",
     "text": [
      "ACADGILD\n",
      "ACADGILD => ['A', 'C', 'A', 'D', 'G', 'I', 'L', 'D']\n"
     ]
    }
   ],
   "source": [
    "string = str(input())\n",
    "result = [i for i in string]\n",
    "print(string + \" => \" + str(result))"
   ]
  },
  {
   "cell_type": "raw",
   "metadata": {},
   "source": [
    "Question xyz: --> ['x', 'xx', 'xxx', 'xxxx', 'y', 'yy', 'yyy', 'yyyy', 'z', 'zz', 'zzz', 'zzzz']"
   ]
  },
  {
   "cell_type": "code",
   "execution_count": 36,
   "metadata": {},
   "outputs": [
    {
     "name": "stdout",
     "output_type": "stream",
     "text": [
      "xyz\n",
      "xyz => ['x', 'xx', 'xxx', 'xxxx', 'y', 'yy', 'yyy', 'yyyy', 'z', 'zz', 'zzz', 'zzzz']\n"
     ]
    }
   ],
   "source": [
    "string = str(input())\n",
    "result = [i*n for i in string for n in range(1,5)]\n",
    "print(string + \" => \" + str(result))"
   ]
  },
  {
   "cell_type": "raw",
   "metadata": {},
   "source": [
    "Question xyz: --> ['x', 'y', 'z', 'xx', 'yy', 'zz', 'xx', 'yy', 'zz', 'xxxx', 'yyyy', 'zzzz']"
   ]
  },
  {
   "cell_type": "code",
   "execution_count": 37,
   "metadata": {},
   "outputs": [
    {
     "name": "stdout",
     "output_type": "stream",
     "text": [
      "xyz\n",
      "xyz => ['x', 'y', 'z', 'xx', 'yy', 'zz', 'xxx', 'yyy', 'zzz', 'xxxx', 'yyyy', 'zzzz']\n"
     ]
    }
   ],
   "source": [
    "string = str(input())\n",
    "result = [i*n for n in range(1, 5) for i in string]\n",
    "print(string + \" => \" + str(result))"
   ]
  },
  {
   "cell_type": "raw",
   "metadata": {},
   "source": [
    "Question 2 3 4: --> [[2], [3], [4], [3], [4], [5], [4], [5], [6]]"
   ]
  },
  {
   "cell_type": "code",
   "execution_count": 38,
   "metadata": {},
   "outputs": [
    {
     "name": "stdout",
     "output_type": "stream",
     "text": [
      "2 3 4\n",
      "[2, 3, 4] => [[2], [3], [4], [3], [4], [5], [4], [5], [6]]\n"
     ]
    }
   ],
   "source": [
    "input_list = list(map(int, input().split()))\n",
    "result = [[i+n] for i in input_list for n in range(0, 3)]\n",
    "print(str(input_list) + \" => \" + str(result))"
   ]
  },
  {
   "cell_type": "raw",
   "metadata": {},
   "source": [
    "Question 2 3 4 5: --> [[2, 3, 4, 5], [3, 4, 5, 6], [4, 5, 6, 7], [5, 6, 7, 8]]"
   ]
  },
  {
   "cell_type": "code",
   "execution_count": 39,
   "metadata": {},
   "outputs": [
    {
     "name": "stdout",
     "output_type": "stream",
     "text": [
      "2 3 4 5\n",
      "[2, 3, 4, 5] => [[2, 3, 4, 5], [3, 4, 5, 6], [4, 5, 6, 7], [5, 6, 7, 8]]\n"
     ]
    }
   ],
   "source": [
    "input_list = list(map(int, input().split()))\n",
    "result = [[i+n for i in input_list] for n in range(0, 4)]\n",
    "print(str(input_list) + \" => \" + str(result))"
   ]
  },
  {
   "cell_type": "raw",
   "metadata": {},
   "source": [
    "Question 1 2 3: --> [(1, 1), (2, 1), (3, 1), (1, 2), (2, 2), (3, 2), (1, 3), (2, 3), (3, 3)]"
   ]
  },
  {
   "cell_type": "code",
   "execution_count": 40,
   "metadata": {},
   "outputs": [
    {
     "name": "stdout",
     "output_type": "stream",
     "text": [
      "1 2 3\n",
      "[1, 2, 3] => [(1, 1), (2, 1), (3, 1), (1, 2), (2, 2), (3, 2), (1, 3), (2, 3), (3, 3)]\n"
     ]
    }
   ],
   "source": [
    "input_list = list(map(int, input().split()))\n",
    "result = [(b, a) for a in input_list for b in input_list]\n",
    "print(str(input_list) + \" => \" + str(result))"
   ]
  },
  {
   "cell_type": "raw",
   "metadata": {},
   "source": [
    "Question: Implement a function longestWord() that takes a list of words and returns the longest one."
   ]
  },
  {
   "cell_type": "code",
   "execution_count": 10,
   "metadata": {},
   "outputs": [
    {
     "name": "stdout",
     "output_type": "stream",
     "text": [
      "sandeep agrim rajesh\n",
      "Longest word Method 1 :  sandeep\n",
      "Longest word Method 2 :  sandeep\n"
     ]
    }
   ],
   "source": [
    "def longestWord_1(list1):\n",
    "    lword = list1[0]\n",
    "    for i in list1:\n",
    "        lword = i if len(i) > len(lword) else lword\n",
    "    return lword\n",
    "def longestWord_2(list1):\n",
    "    list2 = [len(i) for i in list1] \n",
    "    return list1[list2.index(max(list2))]\n",
    "if __name__ == '__main__':\n",
    "    list1 = input().split()\n",
    "    long_word_1 = longestWord_1(list1)\n",
    "    long_word_2 = longestWord_2(list1)\n",
    "    print(\"Longest word Method 1 : \", long_word_1)\n",
    "    print(\"Longest word Method 2 : \", long_word_2)"
   ]
  },
  {
   "cell_type": "markdown",
   "metadata": {},
   "source": [
    "# Task 2"
   ]
  },
  {
   "cell_type": "raw",
   "metadata": {},
   "source": [
    "Question : Write a Python Program(with class concepts) to find the area of the triangle using the below\n",
    "formula.\n",
    "area = (s*(s-a)*(s-b)*(s-c)) ** 0.5\n",
    "Function to take the length of the sides of triangle from user should be defined in the parent\n",
    "class and function to calculate the area should be defined in subclass."
   ]
  },
  {
   "cell_type": "code",
   "execution_count": 8,
   "metadata": {},
   "outputs": [
    {
     "name": "stdout",
     "output_type": "stream",
     "text": [
      "6.0\n"
     ]
    }
   ],
   "source": [
    "class Polygon:\n",
    "    def __init__(self, n):\n",
    "        self.no_of_sides = n\n",
    "    def print_num_sides(self):\n",
    "        '''a quick, informational print statement'''\n",
    "        print('There are ' + str(self.number_of_sides) + ' sides.')\n",
    "        \n",
    "class Triangle(Polygon):\n",
    "    def __init__(self, length_of_sides):\n",
    "        super().__init__(3)\n",
    "        self.length_of_sides = length_of_sides # list of three numbers\n",
    "    def calc_area(self):\n",
    "        '''return the area of the triangle using the semi-perimeter method'''\n",
    "        a, b, c = self.length_of_sides\n",
    "        # calculate the semi-perimeter\n",
    "        s = (a + b + c) / 2\n",
    "        return (s*(s-a)*(s-b)*(s-c)) ** 0.5\n",
    "tri = Triangle([3, 4, 5])\n",
    "print(tri.calc_area())        "
   ]
  },
  {
   "cell_type": "raw",
   "metadata": {},
   "source": [
    "Write a function filter_long_words() that takes a list of words and an integer n and returns the list\n",
    "of words that are longer than n."
   ]
  },
  {
   "cell_type": "code",
   "execution_count": 1,
   "metadata": {},
   "outputs": [
    {
     "name": "stdout",
     "output_type": "stream",
     "text": [
      "Enter the list items :sandeep agrim rajesh\n",
      "Enter the value of n : 5\n",
      "Longest word list :  ['sandeep', 'rajesh']\n"
     ]
    }
   ],
   "source": [
    "def filter_long_words(list1, n):\n",
    "    word_list = [i for i in list1 if len(i) > n]\n",
    "    return word_list\n",
    "if __name__ == '__main__':\n",
    "    list1 = input(\"Enter the list items :\").split()\n",
    "    n = int(input(\"Enter the value of n : \"))\n",
    "    longest_word_list = filter_long_words(list1, n)\n",
    "    print(\"Longest word list : \", longest_word_list)"
   ]
  },
  {
   "cell_type": "raw",
   "metadata": {},
   "source": [
    "Write a Python program using function concept that maps list of words into a list of integers\n",
    "representing the lengths of the corresponding words .\n",
    "Hint: If a list [ ab,cde,erty] is passed on to the python function output should come as [2,3,4]\n",
    "Here 2,3 and 4 are the lengths of the words in the list."
   ]
  },
  {
   "cell_type": "code",
   "execution_count": 2,
   "metadata": {},
   "outputs": [
    {
     "name": "stdout",
     "output_type": "stream",
     "text": [
      "Enter the list items :sandeep agrim rajesh\n",
      "Words-length list :  [7, 5, 6]\n"
     ]
    }
   ],
   "source": [
    "def word_length(word):\n",
    "    return len(word)\n",
    "\n",
    "if __name__ == '__main__':\n",
    "    list1 = input(\"Enter the list items :\").split()\n",
    "    word_length_list = list(map(word_length, list1))\n",
    "    print(\"Words-length list : \", word_length_list)\n"
   ]
  },
  {
   "cell_type": "code",
   "execution_count": null,
   "metadata": {},
   "outputs": [],
   "source": []
  }
 ],
 "metadata": {
  "kernelspec": {
   "display_name": "Python 3",
   "language": "python",
   "name": "python3"
  },
  "language_info": {
   "codemirror_mode": {
    "name": "ipython",
    "version": 3
   },
   "file_extension": ".py",
   "mimetype": "text/x-python",
   "name": "python",
   "nbconvert_exporter": "python",
   "pygments_lexer": "ipython3",
   "version": "3.7.0"
  }
 },
 "nbformat": 4,
 "nbformat_minor": 2
}
